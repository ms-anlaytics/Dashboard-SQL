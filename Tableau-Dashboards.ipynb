{
 "cells": [
  {
   "cell_type": "markdown",
   "id": "83b8fbce",
   "metadata": {},
   "source": [
    "### SQL Tableau Dashboards for Business Intelligence / Advanced Data Analysis\n",
    "\n",
    "By Michael Stephenson<p/>\n",
    "\n",
    "\n"
   ]
  },
  {
   "cell_type": "markdown",
   "id": "5d859c94",
   "metadata": {},
   "source": [
    "Import Python libraries"
   ]
  },
  {
   "cell_type": "code",
   "execution_count": 1,
   "id": "f063d89c",
   "metadata": {},
   "outputs": [],
   "source": [
    "import pandas as pd\n",
    "import sqlite3\n",
    "import sql\n",
    "\n",
    "import warnings\n",
    "warnings.filterwarnings('ignore')"
   ]
  },
  {
   "cell_type": "markdown",
   "id": "48eec86c",
   "metadata": {},
   "source": [
    "Create a connection to the sqlite3 library."
   ]
  },
  {
   "cell_type": "code",
   "execution_count": 2,
   "id": "a5caea97",
   "metadata": {},
   "outputs": [],
   "source": [
    "data_db = sqlite3.connect('example_sql.db')\n",
    "cursor = data_db.cursor()"
   ]
  },
  {
   "cell_type": "markdown",
   "id": "a5c9957d",
   "metadata": {},
   "source": [
    "Load SQL into iPython"
   ]
  },
  {
   "cell_type": "code",
   "execution_count": 3,
   "id": "90971f95",
   "metadata": {},
   "outputs": [],
   "source": [
    "%load_ext sql"
   ]
  },
  {
   "cell_type": "markdown",
   "id": "da067cb0",
   "metadata": {},
   "source": [
    "Create Jupyter database"
   ]
  },
  {
   "cell_type": "code",
   "execution_count": 4,
   "id": "1333a917",
   "metadata": {},
   "outputs": [],
   "source": [
    "%sql sqlite:///example_sql.db"
   ]
  },
  {
   "cell_type": "markdown",
   "id": "c0bcae09",
   "metadata": {},
   "source": [
    "Import churn_raw_data"
   ]
  },
  {
   "cell_type": "code",
   "execution_count": 5,
   "id": "ba0e97b8",
   "metadata": {},
   "outputs": [],
   "source": [
    "churn_raw = pd.read_csv('churn_raw_data.csv')"
   ]
  },
  {
   "cell_type": "markdown",
   "id": "2f301373",
   "metadata": {},
   "source": [
    "Load churn_raw_data into SQLite Jupyter Database "
   ]
  },
  {
   "cell_type": "code",
   "execution_count": 6,
   "id": "dc5b26d3",
   "metadata": {
    "scrolled": true
   },
   "outputs": [],
   "source": [
    "churn_raw.to_sql('churn_raw', data_db)"
   ]
  },
  {
   "cell_type": "markdown",
   "id": "984c23ad",
   "metadata": {},
   "source": [
    "Import WA_Fn-UseC_-Telco-Customer-Churn"
   ]
  },
  {
   "cell_type": "code",
   "execution_count": 7,
   "id": "05af2cc0",
   "metadata": {},
   "outputs": [],
   "source": [
    "Telco_Customer = pd.read_csv('WA_Fn-UseC_-Telco-Customer-Churn.csv')"
   ]
  },
  {
   "cell_type": "markdown",
   "id": "1cadbad1",
   "metadata": {},
   "source": [
    "Load WA_Fn-UseC_-Telco-Customer-Churn into SQLite Jupyter Database"
   ]
  },
  {
   "cell_type": "code",
   "execution_count": 8,
   "id": "e9a62916",
   "metadata": {},
   "outputs": [],
   "source": [
    "Telco_Customer.to_sql('Telco_Customer', data_db)"
   ]
  },
  {
   "cell_type": "markdown",
   "id": "e2320e04",
   "metadata": {},
   "source": [
    "Display table names"
   ]
  },
  {
   "cell_type": "code",
   "execution_count": 10,
   "id": "9aa44083",
   "metadata": {},
   "outputs": [
    {
     "name": "stdout",
     "output_type": "stream",
     "text": [
      " * sqlite:///example_sql.db\n",
      "Done.\n"
     ]
    },
    {
     "data": {
      "text/html": [
       "<table>\n",
       "    <tr>\n",
       "        <th>name</th>\n",
       "    </tr>\n",
       "    <tr>\n",
       "        <td>churn_raw</td>\n",
       "    </tr>\n",
       "    <tr>\n",
       "        <td>Telco_Customer</td>\n",
       "    </tr>\n",
       "</table>"
      ],
      "text/plain": [
       "[('churn_raw',), ('Telco_Customer',)]"
      ]
     },
     "execution_count": 10,
     "metadata": {},
     "output_type": "execute_result"
    }
   ],
   "source": [
    "%sql SELECT name FROM sqlite_master WHERE type='table'"
   ]
  },
  {
   "cell_type": "markdown",
   "id": "b1c5929c",
   "metadata": {},
   "source": [
    "Count rows for churn_raw"
   ]
  },
  {
   "cell_type": "code",
   "execution_count": 11,
   "id": "081f49c7",
   "metadata": {},
   "outputs": [
    {
     "name": "stdout",
     "output_type": "stream",
     "text": [
      " * sqlite:///example_sql.db\n",
      "Done.\n"
     ]
    },
    {
     "data": {
      "text/html": [
       "<table>\n",
       "    <tr>\n",
       "        <th>number_rows</th>\n",
       "    </tr>\n",
       "    <tr>\n",
       "        <td>10000</td>\n",
       "    </tr>\n",
       "</table>"
      ],
      "text/plain": [
       "[(10000,)]"
      ]
     },
     "execution_count": 11,
     "metadata": {},
     "output_type": "execute_result"
    }
   ],
   "source": [
    "%sql SELECT COUNT(*) AS number_rows From churn_raw\n",
    "\n"
   ]
  },
  {
   "cell_type": "markdown",
   "id": "d88bc114",
   "metadata": {},
   "source": [
    "Count rows for Telco_Customer"
   ]
  },
  {
   "cell_type": "code",
   "execution_count": 12,
   "id": "cee0d673",
   "metadata": {},
   "outputs": [
    {
     "name": "stdout",
     "output_type": "stream",
     "text": [
      " * sqlite:///example_sql.db\n",
      "Done.\n"
     ]
    },
    {
     "data": {
      "text/html": [
       "<table>\n",
       "    <tr>\n",
       "        <th>number_rows</th>\n",
       "    </tr>\n",
       "    <tr>\n",
       "        <td>7043</td>\n",
       "    </tr>\n",
       "</table>"
      ],
      "text/plain": [
       "[(7043,)]"
      ]
     },
     "execution_count": 12,
     "metadata": {},
     "output_type": "execute_result"
    }
   ],
   "source": [
    "%sql SELECT COUNT(*) AS number_rows From Telco_Customer"
   ]
  },
  {
   "cell_type": "markdown",
   "id": "f0c9b4ed",
   "metadata": {},
   "source": [
    "Clean_data table is from the churn_data table."
   ]
  },
  {
   "cell_type": "code",
   "execution_count": 14,
   "id": "f2e92b15",
   "metadata": {},
   "outputs": [
    {
     "name": "stdout",
     "output_type": "stream",
     "text": [
      " * sqlite:///example_sql.db\n",
      "(sqlite3.OperationalError) table clean_data already exists\n",
      "[SQL: CREATE TABLE clean_data( Customer_id CHAR(50) PRIMARY KEY,\n",
      "    Tenure         FLOAT,\n",
      "    MonthlyCharge FLOAT,\n",
      "    Churn CHAR(50),\n",
      "    State CHAR(50),\n",
      "    Population INT) ;]\n",
      "(Background on this error at: http://sqlalche.me/e/14/e3q8)\n"
     ]
    }
   ],
   "source": [
    "%%sql\n",
    "\n",
    "CREATE TABLE clean_data(\n",
    "    Customer_id CHAR(50) PRIMARY KEY,\n",
    "    Tenure         FLOAT,\n",
    "    MonthlyCharge FLOAT,\n",
    "    Churn CHAR(50),\n",
    "    State CHAR(50),\n",
    "    Population INT) ;\n",
    "    \n",
    "INSERT INTO clean_data SELECT Customer_id, Tenure, MonthlyCharge, Churn, State, Population FROM churn_raw; \n",
    "\n",
    "\n",
    "\n",
    "SELECT * FROM clean_data  LIMIT 10;\n",
    "\n"
   ]
  },
  {
   "cell_type": "markdown",
   "id": "beb9cf38",
   "metadata": {},
   "source": [
    "### Count Null Vaules"
   ]
  },
  {
   "cell_type": "code",
   "execution_count": 15,
   "id": "a729b679",
   "metadata": {},
   "outputs": [
    {
     "name": "stdout",
     "output_type": "stream",
     "text": [
      "Done.\n"
     ]
    },
    {
     "data": {
      "text/html": [
       "<table>\n",
       "    <tr>\n",
       "        <th>NullVaules</th>\n",
       "    </tr>\n",
       "    <tr>\n",
       "        <td>0</td>\n",
       "    </tr>\n",
       "</table>"
      ],
      "text/plain": [
       "[(0,)]"
      ]
     },
     "execution_count": 15,
     "metadata": {},
     "output_type": "execute_result"
    }
   ],
   "source": [
    "%%sql sqlite://\n",
    "SELECT COUNT(*)-count(State) AS NullVaules\n",
    "FROM clean_data\n",
    "WHERE State IS NULL;"
   ]
  },
  {
   "cell_type": "code",
   "execution_count": 16,
   "id": "a1241488",
   "metadata": {},
   "outputs": [
    {
     "name": "stdout",
     "output_type": "stream",
     "text": [
      "Done.\n"
     ]
    },
    {
     "data": {
      "text/html": [
       "<table>\n",
       "    <tr>\n",
       "        <th>NullVaules</th>\n",
       "    </tr>\n",
       "    <tr>\n",
       "        <td>0</td>\n",
       "    </tr>\n",
       "</table>"
      ],
      "text/plain": [
       "[(0,)]"
      ]
     },
     "execution_count": 16,
     "metadata": {},
     "output_type": "execute_result"
    }
   ],
   "source": [
    "%%sql sqlite://\n",
    "SELECT COUNT(*)-count(Population) AS NullVaules\n",
    "FROM clean_data\n",
    "WHERE Population IS NULL;"
   ]
  },
  {
   "cell_type": "code",
   "execution_count": 17,
   "id": "17fd9cd5",
   "metadata": {},
   "outputs": [
    {
     "name": "stdout",
     "output_type": "stream",
     "text": [
      "Done.\n"
     ]
    },
    {
     "data": {
      "text/html": [
       "<table>\n",
       "    <tr>\n",
       "        <th>NullVaules</th>\n",
       "    </tr>\n",
       "    <tr>\n",
       "        <td>931</td>\n",
       "    </tr>\n",
       "</table>"
      ],
      "text/plain": [
       "[(931,)]"
      ]
     },
     "execution_count": 17,
     "metadata": {},
     "output_type": "execute_result"
    }
   ],
   "source": [
    "%%sql sqlite://\n",
    "SELECT COUNT(*)-count(Tenure) AS NullVaules\n",
    "FROM clean_data\n",
    "WHERE Tenure IS NULL;"
   ]
  },
  {
   "cell_type": "code",
   "execution_count": 18,
   "id": "a6b979b3",
   "metadata": {},
   "outputs": [
    {
     "name": "stdout",
     "output_type": "stream",
     "text": [
      "Done.\n"
     ]
    },
    {
     "data": {
      "text/html": [
       "<table>\n",
       "    <tr>\n",
       "        <th>NullVaules</th>\n",
       "    </tr>\n",
       "    <tr>\n",
       "        <td>0</td>\n",
       "    </tr>\n",
       "</table>"
      ],
      "text/plain": [
       "[(0,)]"
      ]
     },
     "execution_count": 18,
     "metadata": {},
     "output_type": "execute_result"
    }
   ],
   "source": [
    "%%sql sqlite://\n",
    "SELECT COUNT(*)-count(MonthlyCharge) AS NullVaules\n",
    "FROM clean_data\n",
    "WHERE MonthlyCharge IS NULL;"
   ]
  },
  {
   "cell_type": "code",
   "execution_count": 19,
   "id": "2353aa62",
   "metadata": {},
   "outputs": [
    {
     "name": "stdout",
     "output_type": "stream",
     "text": [
      "Done.\n"
     ]
    },
    {
     "data": {
      "text/html": [
       "<table>\n",
       "    <tr>\n",
       "        <th>NullVaules</th>\n",
       "    </tr>\n",
       "    <tr>\n",
       "        <td>0</td>\n",
       "    </tr>\n",
       "</table>"
      ],
      "text/plain": [
       "[(0,)]"
      ]
     },
     "execution_count": 19,
     "metadata": {},
     "output_type": "execute_result"
    }
   ],
   "source": [
    "%%sql sqlite://\n",
    "SELECT COUNT(*)-count(Churn) AS NullVaules\n",
    "FROM clean_data\n",
    "WHERE Churn IS NULL;"
   ]
  },
  {
   "cell_type": "markdown",
   "id": "368c2b0f",
   "metadata": {},
   "source": [
    "Drop missing values"
   ]
  },
  {
   "cell_type": "code",
   "execution_count": 20,
   "id": "6bfe4f90",
   "metadata": {},
   "outputs": [
    {
     "name": "stdout",
     "output_type": "stream",
     "text": [
      "931 rows affected.\n",
      "Done.\n"
     ]
    },
    {
     "data": {
      "text/html": [
       "<table>\n",
       "    <tr>\n",
       "        <th>Customer_id</th>\n",
       "        <th>Tenure</th>\n",
       "        <th>MonthlyCharge</th>\n",
       "        <th>Churn</th>\n",
       "        <th>State</th>\n",
       "        <th>Population</th>\n",
       "    </tr>\n",
       "    <tr>\n",
       "        <td>K409198</td>\n",
       "        <td>6.795512947</td>\n",
       "        <td>171.4497621</td>\n",
       "        <td>No</td>\n",
       "        <td>AK</td>\n",
       "        <td>38</td>\n",
       "    </tr>\n",
       "    <tr>\n",
       "        <td>S120509</td>\n",
       "        <td>1.156680997</td>\n",
       "        <td>242.9480155</td>\n",
       "        <td>Yes</td>\n",
       "        <td>MI</td>\n",
       "        <td>10446</td>\n",
       "    </tr>\n",
       "    <tr>\n",
       "        <td>K191035</td>\n",
       "        <td>15.75414408</td>\n",
       "        <td>159.4403984</td>\n",
       "        <td>No</td>\n",
       "        <td>OR</td>\n",
       "        <td>3735</td>\n",
       "    </tr>\n",
       "    <tr>\n",
       "        <td>D90850</td>\n",
       "        <td>17.08722662</td>\n",
       "        <td>120.2494934</td>\n",
       "        <td>No</td>\n",
       "        <td>CA</td>\n",
       "        <td>13863</td>\n",
       "    </tr>\n",
       "    <tr>\n",
       "        <td>K662701</td>\n",
       "        <td>1.670971726</td>\n",
       "        <td>150.7612159</td>\n",
       "        <td>Yes</td>\n",
       "        <td>TX</td>\n",
       "        <td>11352</td>\n",
       "    </tr>\n",
       "    <tr>\n",
       "        <td>W303516</td>\n",
       "        <td>7.000993555</td>\n",
       "        <td>184.4015581</td>\n",
       "        <td>No</td>\n",
       "        <td>GA</td>\n",
       "        <td>17701</td>\n",
       "    </tr>\n",
       "    <tr>\n",
       "        <td>U335188</td>\n",
       "        <td>13.23677381</td>\n",
       "        <td>200.0648859</td>\n",
       "        <td>Yes</td>\n",
       "        <td>TN</td>\n",
       "        <td>2535</td>\n",
       "    </tr>\n",
       "    <tr>\n",
       "        <td>M716771</td>\n",
       "        <td>8.220686373</td>\n",
       "        <td>118.3668439</td>\n",
       "        <td>No</td>\n",
       "        <td>FL</td>\n",
       "        <td>17351</td>\n",
       "    </tr>\n",
       "    <tr>\n",
       "        <td>I676080</td>\n",
       "        <td>3.422086139</td>\n",
       "        <td>163.0052796</td>\n",
       "        <td>No</td>\n",
       "        <td>OH</td>\n",
       "        <td>20193</td>\n",
       "    </tr>\n",
       "    <tr>\n",
       "        <td>J980369</td>\n",
       "        <td>19.26726194</td>\n",
       "        <td>177.451599</td>\n",
       "        <td>No</td>\n",
       "        <td>PA</td>\n",
       "        <td>555</td>\n",
       "    </tr>\n",
       "</table>"
      ],
      "text/plain": [
       "[('K409198', 6.795512947, 171.4497621, 'No', 'AK', 38),\n",
       " ('S120509', 1.156680997, 242.9480155, 'Yes', 'MI', 10446),\n",
       " ('K191035', 15.75414408, 159.4403984, 'No', 'OR', 3735),\n",
       " ('D90850', 17.08722662, 120.2494934, 'No', 'CA', 13863),\n",
       " ('K662701', 1.670971726, 150.7612159, 'Yes', 'TX', 11352),\n",
       " ('W303516', 7.000993555, 184.4015581, 'No', 'GA', 17701),\n",
       " ('U335188', 13.23677381, 200.0648859, 'Yes', 'TN', 2535),\n",
       " ('M716771', 8.220686373, 118.3668439, 'No', 'FL', 17351),\n",
       " ('I676080', 3.422086139, 163.0052796, 'No', 'OH', 20193),\n",
       " ('J980369', 19.26726194, 177.451599, 'No', 'PA', 555)]"
      ]
     },
     "execution_count": 20,
     "metadata": {},
     "output_type": "execute_result"
    }
   ],
   "source": [
    "%%sql sqlite://\n",
    "DELETE FROM clean_data \n",
    "WHERE Tenure IS NULL;\n",
    "\n",
    "SELECT * FROM clean_data LIMIT 10;"
   ]
  },
  {
   "cell_type": "markdown",
   "id": "58086bde",
   "metadata": {},
   "source": [
    "Add the variable Gross_Profits to clean_data"
   ]
  },
  {
   "cell_type": "code",
   "execution_count": 22,
   "id": "cafb0090",
   "metadata": {
    "scrolled": true
   },
   "outputs": [
    {
     "name": "stdout",
     "output_type": "stream",
     "text": [
      "(sqlite3.OperationalError) duplicate column name: Gross_Profits\n",
      "[SQL: ALTER TABLE clean_data ADD Gross_Profits FLOAT NULL;]\n",
      "(Background on this error at: http://sqlalche.me/e/14/e3q8)\n"
     ]
    }
   ],
   "source": [
    "%%sql sqlite://\n",
    "ALTER TABLE clean_data ADD Gross_Profits FLOAT NULL;\n",
    "SELECT * FROM clean_data LIMIT 10;"
   ]
  },
  {
   "cell_type": "markdown",
   "id": "2c3e465c",
   "metadata": {},
   "source": [
    "Update Gross_Profits with sum of MonthlyCharge"
   ]
  },
  {
   "cell_type": "code",
   "execution_count": 23,
   "id": "d0dcefa3",
   "metadata": {},
   "outputs": [
    {
     "name": "stdout",
     "output_type": "stream",
     "text": [
      "9069 rows affected.\n",
      "Done.\n"
     ]
    },
    {
     "data": {
      "text/html": [
       "<table>\n",
       "    <tr>\n",
       "        <th>Gross_Profits</th>\n",
       "    </tr>\n",
       "    <tr>\n",
       "        <td>1580515.3218268692</td>\n",
       "    </tr>\n",
       "    <tr>\n",
       "        <td>1580515.3218268692</td>\n",
       "    </tr>\n",
       "    <tr>\n",
       "        <td>1580515.3218268692</td>\n",
       "    </tr>\n",
       "    <tr>\n",
       "        <td>1580515.3218268692</td>\n",
       "    </tr>\n",
       "    <tr>\n",
       "        <td>1580515.3218268692</td>\n",
       "    </tr>\n",
       "    <tr>\n",
       "        <td>1580515.3218268692</td>\n",
       "    </tr>\n",
       "    <tr>\n",
       "        <td>1580515.3218268692</td>\n",
       "    </tr>\n",
       "    <tr>\n",
       "        <td>1580515.3218268692</td>\n",
       "    </tr>\n",
       "    <tr>\n",
       "        <td>1580515.3218268692</td>\n",
       "    </tr>\n",
       "    <tr>\n",
       "        <td>1580515.3218268692</td>\n",
       "    </tr>\n",
       "</table>"
      ],
      "text/plain": [
       "[(1580515.3218268692,),\n",
       " (1580515.3218268692,),\n",
       " (1580515.3218268692,),\n",
       " (1580515.3218268692,),\n",
       " (1580515.3218268692,),\n",
       " (1580515.3218268692,),\n",
       " (1580515.3218268692,),\n",
       " (1580515.3218268692,),\n",
       " (1580515.3218268692,),\n",
       " (1580515.3218268692,)]"
      ]
     },
     "execution_count": 23,
     "metadata": {},
     "output_type": "execute_result"
    }
   ],
   "source": [
    "%%sql sqlite://\n",
    "UPDATE \n",
    "    clean_data \n",
    "SET \n",
    "    Gross_Profits= (SELECT SUM(MonthlyCharge) FROM clean_data); \n",
    "\n",
    "\n",
    "SELECT Gross_Profits FROM clean_data LIMIT 10;"
   ]
  },
  {
   "cell_type": "code",
   "execution_count": 24,
   "id": "21a6fd34",
   "metadata": {},
   "outputs": [
    {
     "name": "stdout",
     "output_type": "stream",
     "text": [
      "Done.\n",
      "Done.\n"
     ]
    },
    {
     "data": {
      "text/html": [
       "<table>\n",
       "    <tr>\n",
       "        <th>Customer_id</th>\n",
       "        <th>Tenure</th>\n",
       "        <th>MonthlyCharge</th>\n",
       "        <th>Churn</th>\n",
       "        <th>State</th>\n",
       "        <th>Population</th>\n",
       "        <th>Gross_Profits</th>\n",
       "        <th>Avg_Cost</th>\n",
       "    </tr>\n",
       "    <tr>\n",
       "        <td>K409198</td>\n",
       "        <td>6.795512947</td>\n",
       "        <td>171.4497621</td>\n",
       "        <td>No</td>\n",
       "        <td>AK</td>\n",
       "        <td>38</td>\n",
       "        <td>1580515.3218268692</td>\n",
       "        <td>None</td>\n",
       "    </tr>\n",
       "    <tr>\n",
       "        <td>S120509</td>\n",
       "        <td>1.156680997</td>\n",
       "        <td>242.9480155</td>\n",
       "        <td>Yes</td>\n",
       "        <td>MI</td>\n",
       "        <td>10446</td>\n",
       "        <td>1580515.3218268692</td>\n",
       "        <td>None</td>\n",
       "    </tr>\n",
       "    <tr>\n",
       "        <td>K191035</td>\n",
       "        <td>15.75414408</td>\n",
       "        <td>159.4403984</td>\n",
       "        <td>No</td>\n",
       "        <td>OR</td>\n",
       "        <td>3735</td>\n",
       "        <td>1580515.3218268692</td>\n",
       "        <td>None</td>\n",
       "    </tr>\n",
       "    <tr>\n",
       "        <td>D90850</td>\n",
       "        <td>17.08722662</td>\n",
       "        <td>120.2494934</td>\n",
       "        <td>No</td>\n",
       "        <td>CA</td>\n",
       "        <td>13863</td>\n",
       "        <td>1580515.3218268692</td>\n",
       "        <td>None</td>\n",
       "    </tr>\n",
       "    <tr>\n",
       "        <td>K662701</td>\n",
       "        <td>1.670971726</td>\n",
       "        <td>150.7612159</td>\n",
       "        <td>Yes</td>\n",
       "        <td>TX</td>\n",
       "        <td>11352</td>\n",
       "        <td>1580515.3218268692</td>\n",
       "        <td>None</td>\n",
       "    </tr>\n",
       "    <tr>\n",
       "        <td>W303516</td>\n",
       "        <td>7.000993555</td>\n",
       "        <td>184.4015581</td>\n",
       "        <td>No</td>\n",
       "        <td>GA</td>\n",
       "        <td>17701</td>\n",
       "        <td>1580515.3218268692</td>\n",
       "        <td>None</td>\n",
       "    </tr>\n",
       "    <tr>\n",
       "        <td>U335188</td>\n",
       "        <td>13.23677381</td>\n",
       "        <td>200.0648859</td>\n",
       "        <td>Yes</td>\n",
       "        <td>TN</td>\n",
       "        <td>2535</td>\n",
       "        <td>1580515.3218268692</td>\n",
       "        <td>None</td>\n",
       "    </tr>\n",
       "    <tr>\n",
       "        <td>M716771</td>\n",
       "        <td>8.220686373</td>\n",
       "        <td>118.3668439</td>\n",
       "        <td>No</td>\n",
       "        <td>FL</td>\n",
       "        <td>17351</td>\n",
       "        <td>1580515.3218268692</td>\n",
       "        <td>None</td>\n",
       "    </tr>\n",
       "    <tr>\n",
       "        <td>I676080</td>\n",
       "        <td>3.422086139</td>\n",
       "        <td>163.0052796</td>\n",
       "        <td>No</td>\n",
       "        <td>OH</td>\n",
       "        <td>20193</td>\n",
       "        <td>1580515.3218268692</td>\n",
       "        <td>None</td>\n",
       "    </tr>\n",
       "    <tr>\n",
       "        <td>J980369</td>\n",
       "        <td>19.26726194</td>\n",
       "        <td>177.451599</td>\n",
       "        <td>No</td>\n",
       "        <td>PA</td>\n",
       "        <td>555</td>\n",
       "        <td>1580515.3218268692</td>\n",
       "        <td>None</td>\n",
       "    </tr>\n",
       "</table>"
      ],
      "text/plain": [
       "[('K409198', 6.795512947, 171.4497621, 'No', 'AK', 38, 1580515.3218268692, None),\n",
       " ('S120509', 1.156680997, 242.9480155, 'Yes', 'MI', 10446, 1580515.3218268692, None),\n",
       " ('K191035', 15.75414408, 159.4403984, 'No', 'OR', 3735, 1580515.3218268692, None),\n",
       " ('D90850', 17.08722662, 120.2494934, 'No', 'CA', 13863, 1580515.3218268692, None),\n",
       " ('K662701', 1.670971726, 150.7612159, 'Yes', 'TX', 11352, 1580515.3218268692, None),\n",
       " ('W303516', 7.000993555, 184.4015581, 'No', 'GA', 17701, 1580515.3218268692, None),\n",
       " ('U335188', 13.23677381, 200.0648859, 'Yes', 'TN', 2535, 1580515.3218268692, None),\n",
       " ('M716771', 8.220686373, 118.3668439, 'No', 'FL', 17351, 1580515.3218268692, None),\n",
       " ('I676080', 3.422086139, 163.0052796, 'No', 'OH', 20193, 1580515.3218268692, None),\n",
       " ('J980369', 19.26726194, 177.451599, 'No', 'PA', 555, 1580515.3218268692, None)]"
      ]
     },
     "execution_count": 24,
     "metadata": {},
     "output_type": "execute_result"
    }
   ],
   "source": [
    "%%sql sqlite://\n",
    "ALTER TABLE clean_data ADD Avg_Cost FLOAT NULL;\n",
    "SELECT * FROM clean_data LIMIT 10;"
   ]
  },
  {
   "cell_type": "markdown",
   "id": "cbeddc87",
   "metadata": {},
   "source": [
    "Average Cost to clean_data customers"
   ]
  },
  {
   "cell_type": "code",
   "execution_count": 25,
   "id": "b7446809",
   "metadata": {},
   "outputs": [
    {
     "name": "stdout",
     "output_type": "stream",
     "text": [
      "9069 rows affected.\n",
      "Done.\n"
     ]
    },
    {
     "data": {
      "text/html": [
       "<table>\n",
       "    <tr>\n",
       "        <th>Avg_Cost</th>\n",
       "    </tr>\n",
       "    <tr>\n",
       "        <td>174.27669222922805</td>\n",
       "    </tr>\n",
       "    <tr>\n",
       "        <td>174.27669222922805</td>\n",
       "    </tr>\n",
       "    <tr>\n",
       "        <td>174.27669222922805</td>\n",
       "    </tr>\n",
       "    <tr>\n",
       "        <td>174.27669222922805</td>\n",
       "    </tr>\n",
       "    <tr>\n",
       "        <td>174.27669222922805</td>\n",
       "    </tr>\n",
       "    <tr>\n",
       "        <td>174.27669222922805</td>\n",
       "    </tr>\n",
       "    <tr>\n",
       "        <td>174.27669222922805</td>\n",
       "    </tr>\n",
       "    <tr>\n",
       "        <td>174.27669222922805</td>\n",
       "    </tr>\n",
       "    <tr>\n",
       "        <td>174.27669222922805</td>\n",
       "    </tr>\n",
       "    <tr>\n",
       "        <td>174.27669222922805</td>\n",
       "    </tr>\n",
       "</table>"
      ],
      "text/plain": [
       "[(174.27669222922805,),\n",
       " (174.27669222922805,),\n",
       " (174.27669222922805,),\n",
       " (174.27669222922805,),\n",
       " (174.27669222922805,),\n",
       " (174.27669222922805,),\n",
       " (174.27669222922805,),\n",
       " (174.27669222922805,),\n",
       " (174.27669222922805,),\n",
       " (174.27669222922805,)]"
      ]
     },
     "execution_count": 25,
     "metadata": {},
     "output_type": "execute_result"
    }
   ],
   "source": [
    "%%sql sqlite://\n",
    "    \n",
    "UPDATE \n",
    "    clean_data \n",
    "SET \n",
    "    Avg_Cost= (SELECT AVG(MonthlyCharge) FROM clean_data); \n",
    "\n",
    "\n",
    "SELECT Avg_Cost FROM clean_data LIMIT 10;"
   ]
  },
  {
   "cell_type": "markdown",
   "id": "45238f55",
   "metadata": {},
   "source": [
    "Telco_Clean table is from the Telco_Customer table."
   ]
  },
  {
   "cell_type": "code",
   "execution_count": 26,
   "id": "04ec98eb",
   "metadata": {},
   "outputs": [
    {
     "name": "stdout",
     "output_type": "stream",
     "text": [
      " * sqlite:///example_sql.db\n",
      "Done.\n",
      "7043 rows affected.\n",
      "Done.\n"
     ]
    },
    {
     "data": {
      "text/html": [
       "<table>\n",
       "    <tr>\n",
       "        <th>customerID</th>\n",
       "        <th>tenure</th>\n",
       "        <th>MonthlyCharges</th>\n",
       "        <th>Churn</th>\n",
       "    </tr>\n",
       "    <tr>\n",
       "        <td>7590-VHVEG</td>\n",
       "        <td>1.0</td>\n",
       "        <td>29.85</td>\n",
       "        <td>No</td>\n",
       "    </tr>\n",
       "    <tr>\n",
       "        <td>5575-GNVDE</td>\n",
       "        <td>34.0</td>\n",
       "        <td>56.95</td>\n",
       "        <td>No</td>\n",
       "    </tr>\n",
       "    <tr>\n",
       "        <td>3668-QPYBK</td>\n",
       "        <td>2.0</td>\n",
       "        <td>53.85</td>\n",
       "        <td>Yes</td>\n",
       "    </tr>\n",
       "    <tr>\n",
       "        <td>7795-CFOCW</td>\n",
       "        <td>45.0</td>\n",
       "        <td>42.3</td>\n",
       "        <td>No</td>\n",
       "    </tr>\n",
       "    <tr>\n",
       "        <td>9237-HQITU</td>\n",
       "        <td>2.0</td>\n",
       "        <td>70.7</td>\n",
       "        <td>Yes</td>\n",
       "    </tr>\n",
       "    <tr>\n",
       "        <td>9305-CDSKC</td>\n",
       "        <td>8.0</td>\n",
       "        <td>99.65</td>\n",
       "        <td>Yes</td>\n",
       "    </tr>\n",
       "    <tr>\n",
       "        <td>1452-KIOVK</td>\n",
       "        <td>22.0</td>\n",
       "        <td>89.1</td>\n",
       "        <td>No</td>\n",
       "    </tr>\n",
       "    <tr>\n",
       "        <td>6713-OKOMC</td>\n",
       "        <td>10.0</td>\n",
       "        <td>29.75</td>\n",
       "        <td>No</td>\n",
       "    </tr>\n",
       "    <tr>\n",
       "        <td>7892-POOKP</td>\n",
       "        <td>28.0</td>\n",
       "        <td>104.8</td>\n",
       "        <td>Yes</td>\n",
       "    </tr>\n",
       "    <tr>\n",
       "        <td>6388-TABGU</td>\n",
       "        <td>62.0</td>\n",
       "        <td>56.15</td>\n",
       "        <td>No</td>\n",
       "    </tr>\n",
       "</table>"
      ],
      "text/plain": [
       "[('7590-VHVEG', 1.0, 29.85, 'No'),\n",
       " ('5575-GNVDE', 34.0, 56.95, 'No'),\n",
       " ('3668-QPYBK', 2.0, 53.85, 'Yes'),\n",
       " ('7795-CFOCW', 45.0, 42.3, 'No'),\n",
       " ('9237-HQITU', 2.0, 70.7, 'Yes'),\n",
       " ('9305-CDSKC', 8.0, 99.65, 'Yes'),\n",
       " ('1452-KIOVK', 22.0, 89.1, 'No'),\n",
       " ('6713-OKOMC', 10.0, 29.75, 'No'),\n",
       " ('7892-POOKP', 28.0, 104.8, 'Yes'),\n",
       " ('6388-TABGU', 62.0, 56.15, 'No')]"
      ]
     },
     "execution_count": 26,
     "metadata": {},
     "output_type": "execute_result"
    }
   ],
   "source": [
    "%%sql \n",
    "\n",
    "CREATE TABLE Telco_Clean(\n",
    "    customerID CHAR(50) PRIMARY KEY,\n",
    "    tenure         FLOAT,\n",
    "    MonthlyCharges FLOAT,\n",
    "    Churn CHAR(50));\n",
    "    \n",
    "INSERT INTO Telco_Clean SELECT customerID, tenure, MonthlyCharges, Churn FROM Telco_Customer; \n",
    "\n",
    "\n",
    "\n",
    "SELECT * FROM Telco_Clean  LIMIT 10;"
   ]
  },
  {
   "cell_type": "markdown",
   "id": "3848b513",
   "metadata": {},
   "source": [
    "### Count Null Vaules"
   ]
  },
  {
   "cell_type": "code",
   "execution_count": 27,
   "id": "a1d686f9",
   "metadata": {},
   "outputs": [
    {
     "name": "stdout",
     "output_type": "stream",
     "text": [
      "Done.\n"
     ]
    },
    {
     "data": {
      "text/html": [
       "<table>\n",
       "    <tr>\n",
       "        <th>NullVaules</th>\n",
       "    </tr>\n",
       "    <tr>\n",
       "        <td>0</td>\n",
       "    </tr>\n",
       "</table>"
      ],
      "text/plain": [
       "[(0,)]"
      ]
     },
     "execution_count": 27,
     "metadata": {},
     "output_type": "execute_result"
    }
   ],
   "source": [
    "%%sql sqlite://\n",
    "SELECT COUNT(*) -count(tenure) AS NullVaules\n",
    "FROM Telco_Clean\n",
    "WHERE tenure IS NULL;"
   ]
  },
  {
   "cell_type": "code",
   "execution_count": 28,
   "id": "0be7ccb3",
   "metadata": {},
   "outputs": [
    {
     "name": "stdout",
     "output_type": "stream",
     "text": [
      "Done.\n"
     ]
    },
    {
     "data": {
      "text/html": [
       "<table>\n",
       "    <tr>\n",
       "        <th>NullVaules</th>\n",
       "    </tr>\n",
       "    <tr>\n",
       "        <td>0</td>\n",
       "    </tr>\n",
       "</table>"
      ],
      "text/plain": [
       "[(0,)]"
      ]
     },
     "execution_count": 28,
     "metadata": {},
     "output_type": "execute_result"
    }
   ],
   "source": [
    "%%sql sqlite://\n",
    "SELECT COUNT(*) -count(MonthlyCharges) AS NullVaules\n",
    "FROM Telco_Clean\n",
    "WHERE MonthlyCharges IS NULL;"
   ]
  },
  {
   "cell_type": "code",
   "execution_count": 29,
   "id": "f514a26c",
   "metadata": {},
   "outputs": [
    {
     "name": "stdout",
     "output_type": "stream",
     "text": [
      "Done.\n"
     ]
    },
    {
     "data": {
      "text/html": [
       "<table>\n",
       "    <tr>\n",
       "        <th>NullVaules</th>\n",
       "    </tr>\n",
       "    <tr>\n",
       "        <td>0</td>\n",
       "    </tr>\n",
       "</table>"
      ],
      "text/plain": [
       "[(0,)]"
      ]
     },
     "execution_count": 29,
     "metadata": {},
     "output_type": "execute_result"
    }
   ],
   "source": [
    "%%sql sqlite://\n",
    "SELECT COUNT(*) -count(Churn) AS NullVaules\n",
    "FROM Telco_Clean\n",
    "WHERE Churn IS NULL;"
   ]
  },
  {
   "cell_type": "markdown",
   "id": "1125d7e9",
   "metadata": {},
   "source": [
    "### SQL custom queries to data."
   ]
  },
  {
   "cell_type": "markdown",
   "id": "0a8f783e",
   "metadata": {},
   "source": [
    "#### Select all variables from table."
   ]
  },
  {
   "cell_type": "code",
   "execution_count": 30,
   "id": "879ddef1",
   "metadata": {},
   "outputs": [
    {
     "name": "stdout",
     "output_type": "stream",
     "text": [
      "Done.\n"
     ]
    },
    {
     "data": {
      "text/html": [
       "<table>\n",
       "    <tr>\n",
       "        <th>Customer_id</th>\n",
       "        <th>Tenure</th>\n",
       "        <th>MonthlyCharge</th>\n",
       "        <th>Churn</th>\n",
       "        <th>State</th>\n",
       "        <th>Population</th>\n",
       "        <th>Gross_Profits</th>\n",
       "        <th>Avg_Cost</th>\n",
       "    </tr>\n",
       "    <tr>\n",
       "        <td>K409198</td>\n",
       "        <td>6.795512947</td>\n",
       "        <td>171.4497621</td>\n",
       "        <td>No</td>\n",
       "        <td>AK</td>\n",
       "        <td>38</td>\n",
       "        <td>1580515.3218268692</td>\n",
       "        <td>174.27669222922805</td>\n",
       "    </tr>\n",
       "    <tr>\n",
       "        <td>S120509</td>\n",
       "        <td>1.156680997</td>\n",
       "        <td>242.9480155</td>\n",
       "        <td>Yes</td>\n",
       "        <td>MI</td>\n",
       "        <td>10446</td>\n",
       "        <td>1580515.3218268692</td>\n",
       "        <td>174.27669222922805</td>\n",
       "    </tr>\n",
       "    <tr>\n",
       "        <td>K191035</td>\n",
       "        <td>15.75414408</td>\n",
       "        <td>159.4403984</td>\n",
       "        <td>No</td>\n",
       "        <td>OR</td>\n",
       "        <td>3735</td>\n",
       "        <td>1580515.3218268692</td>\n",
       "        <td>174.27669222922805</td>\n",
       "    </tr>\n",
       "    <tr>\n",
       "        <td>D90850</td>\n",
       "        <td>17.08722662</td>\n",
       "        <td>120.2494934</td>\n",
       "        <td>No</td>\n",
       "        <td>CA</td>\n",
       "        <td>13863</td>\n",
       "        <td>1580515.3218268692</td>\n",
       "        <td>174.27669222922805</td>\n",
       "    </tr>\n",
       "    <tr>\n",
       "        <td>K662701</td>\n",
       "        <td>1.670971726</td>\n",
       "        <td>150.7612159</td>\n",
       "        <td>Yes</td>\n",
       "        <td>TX</td>\n",
       "        <td>11352</td>\n",
       "        <td>1580515.3218268692</td>\n",
       "        <td>174.27669222922805</td>\n",
       "    </tr>\n",
       "    <tr>\n",
       "        <td>W303516</td>\n",
       "        <td>7.000993555</td>\n",
       "        <td>184.4015581</td>\n",
       "        <td>No</td>\n",
       "        <td>GA</td>\n",
       "        <td>17701</td>\n",
       "        <td>1580515.3218268692</td>\n",
       "        <td>174.27669222922805</td>\n",
       "    </tr>\n",
       "    <tr>\n",
       "        <td>U335188</td>\n",
       "        <td>13.23677381</td>\n",
       "        <td>200.0648859</td>\n",
       "        <td>Yes</td>\n",
       "        <td>TN</td>\n",
       "        <td>2535</td>\n",
       "        <td>1580515.3218268692</td>\n",
       "        <td>174.27669222922805</td>\n",
       "    </tr>\n",
       "    <tr>\n",
       "        <td>M716771</td>\n",
       "        <td>8.220686373</td>\n",
       "        <td>118.3668439</td>\n",
       "        <td>No</td>\n",
       "        <td>FL</td>\n",
       "        <td>17351</td>\n",
       "        <td>1580515.3218268692</td>\n",
       "        <td>174.27669222922805</td>\n",
       "    </tr>\n",
       "    <tr>\n",
       "        <td>I676080</td>\n",
       "        <td>3.422086139</td>\n",
       "        <td>163.0052796</td>\n",
       "        <td>No</td>\n",
       "        <td>OH</td>\n",
       "        <td>20193</td>\n",
       "        <td>1580515.3218268692</td>\n",
       "        <td>174.27669222922805</td>\n",
       "    </tr>\n",
       "    <tr>\n",
       "        <td>J980369</td>\n",
       "        <td>19.26726194</td>\n",
       "        <td>177.451599</td>\n",
       "        <td>No</td>\n",
       "        <td>PA</td>\n",
       "        <td>555</td>\n",
       "        <td>1580515.3218268692</td>\n",
       "        <td>174.27669222922805</td>\n",
       "    </tr>\n",
       "</table>"
      ],
      "text/plain": [
       "[('K409198', 6.795512947, 171.4497621, 'No', 'AK', 38, 1580515.3218268692, 174.27669222922805),\n",
       " ('S120509', 1.156680997, 242.9480155, 'Yes', 'MI', 10446, 1580515.3218268692, 174.27669222922805),\n",
       " ('K191035', 15.75414408, 159.4403984, 'No', 'OR', 3735, 1580515.3218268692, 174.27669222922805),\n",
       " ('D90850', 17.08722662, 120.2494934, 'No', 'CA', 13863, 1580515.3218268692, 174.27669222922805),\n",
       " ('K662701', 1.670971726, 150.7612159, 'Yes', 'TX', 11352, 1580515.3218268692, 174.27669222922805),\n",
       " ('W303516', 7.000993555, 184.4015581, 'No', 'GA', 17701, 1580515.3218268692, 174.27669222922805),\n",
       " ('U335188', 13.23677381, 200.0648859, 'Yes', 'TN', 2535, 1580515.3218268692, 174.27669222922805),\n",
       " ('M716771', 8.220686373, 118.3668439, 'No', 'FL', 17351, 1580515.3218268692, 174.27669222922805),\n",
       " ('I676080', 3.422086139, 163.0052796, 'No', 'OH', 20193, 1580515.3218268692, 174.27669222922805),\n",
       " ('J980369', 19.26726194, 177.451599, 'No', 'PA', 555, 1580515.3218268692, 174.27669222922805)]"
      ]
     },
     "execution_count": 30,
     "metadata": {},
     "output_type": "execute_result"
    }
   ],
   "source": [
    "%%sql sqlite://\n",
    "    \n",
    "SELECT * FROM clean_data LIMIT 10;"
   ]
  },
  {
   "cell_type": "code",
   "execution_count": 31,
   "id": "cc07727a",
   "metadata": {},
   "outputs": [
    {
     "name": "stdout",
     "output_type": "stream",
     "text": [
      "Done.\n"
     ]
    },
    {
     "data": {
      "text/html": [
       "<table>\n",
       "    <tr>\n",
       "        <th>customerID</th>\n",
       "        <th>tenure</th>\n",
       "        <th>MonthlyCharges</th>\n",
       "        <th>Churn</th>\n",
       "    </tr>\n",
       "    <tr>\n",
       "        <td>7590-VHVEG</td>\n",
       "        <td>1.0</td>\n",
       "        <td>29.85</td>\n",
       "        <td>No</td>\n",
       "    </tr>\n",
       "    <tr>\n",
       "        <td>5575-GNVDE</td>\n",
       "        <td>34.0</td>\n",
       "        <td>56.95</td>\n",
       "        <td>No</td>\n",
       "    </tr>\n",
       "    <tr>\n",
       "        <td>3668-QPYBK</td>\n",
       "        <td>2.0</td>\n",
       "        <td>53.85</td>\n",
       "        <td>Yes</td>\n",
       "    </tr>\n",
       "    <tr>\n",
       "        <td>7795-CFOCW</td>\n",
       "        <td>45.0</td>\n",
       "        <td>42.3</td>\n",
       "        <td>No</td>\n",
       "    </tr>\n",
       "    <tr>\n",
       "        <td>9237-HQITU</td>\n",
       "        <td>2.0</td>\n",
       "        <td>70.7</td>\n",
       "        <td>Yes</td>\n",
       "    </tr>\n",
       "    <tr>\n",
       "        <td>9305-CDSKC</td>\n",
       "        <td>8.0</td>\n",
       "        <td>99.65</td>\n",
       "        <td>Yes</td>\n",
       "    </tr>\n",
       "    <tr>\n",
       "        <td>1452-KIOVK</td>\n",
       "        <td>22.0</td>\n",
       "        <td>89.1</td>\n",
       "        <td>No</td>\n",
       "    </tr>\n",
       "    <tr>\n",
       "        <td>6713-OKOMC</td>\n",
       "        <td>10.0</td>\n",
       "        <td>29.75</td>\n",
       "        <td>No</td>\n",
       "    </tr>\n",
       "    <tr>\n",
       "        <td>7892-POOKP</td>\n",
       "        <td>28.0</td>\n",
       "        <td>104.8</td>\n",
       "        <td>Yes</td>\n",
       "    </tr>\n",
       "    <tr>\n",
       "        <td>6388-TABGU</td>\n",
       "        <td>62.0</td>\n",
       "        <td>56.15</td>\n",
       "        <td>No</td>\n",
       "    </tr>\n",
       "</table>"
      ],
      "text/plain": [
       "[('7590-VHVEG', 1.0, 29.85, 'No'),\n",
       " ('5575-GNVDE', 34.0, 56.95, 'No'),\n",
       " ('3668-QPYBK', 2.0, 53.85, 'Yes'),\n",
       " ('7795-CFOCW', 45.0, 42.3, 'No'),\n",
       " ('9237-HQITU', 2.0, 70.7, 'Yes'),\n",
       " ('9305-CDSKC', 8.0, 99.65, 'Yes'),\n",
       " ('1452-KIOVK', 22.0, 89.1, 'No'),\n",
       " ('6713-OKOMC', 10.0, 29.75, 'No'),\n",
       " ('7892-POOKP', 28.0, 104.8, 'Yes'),\n",
       " ('6388-TABGU', 62.0, 56.15, 'No')]"
      ]
     },
     "execution_count": 31,
     "metadata": {},
     "output_type": "execute_result"
    }
   ],
   "source": [
    "%%sql sqlite://\n",
    "    \n",
    "SELECT * FROM Telco_Clean LIMIT 10;"
   ]
  },
  {
   "cell_type": "markdown",
   "id": "b5324144",
   "metadata": {},
   "source": [
    "#### Arrange data according to churn type, average tenture, and average monthly charge."
   ]
  },
  {
   "cell_type": "code",
   "execution_count": 32,
   "id": "3304bb14",
   "metadata": {},
   "outputs": [
    {
     "name": "stdout",
     "output_type": "stream",
     "text": [
      "Done.\n"
     ]
    },
    {
     "data": {
      "text/html": [
       "<table>\n",
       "    <tr>\n",
       "        <th>Churn</th>\n",
       "        <th>tenure</th>\n",
       "        <th>MonthlyCharges</th>\n",
       "    </tr>\n",
       "    <tr>\n",
       "        <td>No</td>\n",
       "        <td>42.25</td>\n",
       "        <td>164.57</td>\n",
       "    </tr>\n",
       "    <tr>\n",
       "        <td>Yes</td>\n",
       "        <td>13.22</td>\n",
       "        <td>200.94</td>\n",
       "    </tr>\n",
       "</table>"
      ],
      "text/plain": [
       "[('No', 42.25, 164.57), ('Yes', 13.22, 200.94)]"
      ]
     },
     "execution_count": 32,
     "metadata": {},
     "output_type": "execute_result"
    }
   ],
   "source": [
    "%%sql sqlite://\n",
    "    \n",
    "SELECT Churn, round(AVG(tenure),2) AS tenure,\n",
    "round(AVG(MonthlyCharge),2) AS MonthlyCharges\n",
    "FROM clean_data \n",
    "GROUP BY Churn;\n"
   ]
  },
  {
   "cell_type": "code",
   "execution_count": 33,
   "id": "d14a95c6",
   "metadata": {},
   "outputs": [
    {
     "name": "stdout",
     "output_type": "stream",
     "text": [
      "Done.\n"
     ]
    },
    {
     "data": {
      "text/html": [
       "<table>\n",
       "    <tr>\n",
       "        <th>Churn</th>\n",
       "        <th>tenure</th>\n",
       "        <th>MonthlyCharges</th>\n",
       "    </tr>\n",
       "    <tr>\n",
       "        <td>No</td>\n",
       "        <td>194387.0</td>\n",
       "        <td>61.27</td>\n",
       "    </tr>\n",
       "    <tr>\n",
       "        <td>Yes</td>\n",
       "        <td>33603.0</td>\n",
       "        <td>74.44</td>\n",
       "    </tr>\n",
       "</table>"
      ],
      "text/plain": [
       "[('No', 194387.0, 61.27), ('Yes', 33603.0, 74.44)]"
      ]
     },
     "execution_count": 33,
     "metadata": {},
     "output_type": "execute_result"
    }
   ],
   "source": [
    "%%sql sqlite://\n",
    "    \n",
    "SELECT Churn, round(SUM(tenure),2) AS tenure,\n",
    "round(AVG(MonthlyCharges),2) AS MonthlyCharges\n",
    "FROM Telco_Clean \n",
    "GROUP BY Churn;"
   ]
  },
  {
   "cell_type": "markdown",
   "id": "fbeb52fd",
   "metadata": {},
   "source": [
    "#### Run SELECT statement to produce a dataframe containing all data. "
   ]
  },
  {
   "cell_type": "code",
   "execution_count": 34,
   "id": "ee3020c9",
   "metadata": {},
   "outputs": [
    {
     "data": {
      "text/html": [
       "<div>\n",
       "<style scoped>\n",
       "    .dataframe tbody tr th:only-of-type {\n",
       "        vertical-align: middle;\n",
       "    }\n",
       "\n",
       "    .dataframe tbody tr th {\n",
       "        vertical-align: top;\n",
       "    }\n",
       "\n",
       "    .dataframe thead th {\n",
       "        text-align: right;\n",
       "    }\n",
       "</style>\n",
       "<table border=\"1\" class=\"dataframe\">\n",
       "  <thead>\n",
       "    <tr style=\"text-align: right;\">\n",
       "      <th></th>\n",
       "      <th>Customer_id</th>\n",
       "      <th>Tenure</th>\n",
       "      <th>MonthlyCharge</th>\n",
       "      <th>Churn</th>\n",
       "      <th>State</th>\n",
       "      <th>Population</th>\n",
       "      <th>Gross_Profits</th>\n",
       "      <th>Avg_Cost</th>\n",
       "    </tr>\n",
       "  </thead>\n",
       "  <tbody>\n",
       "    <tr>\n",
       "      <th>0</th>\n",
       "      <td>K409198</td>\n",
       "      <td>6.795513</td>\n",
       "      <td>171.449762</td>\n",
       "      <td>No</td>\n",
       "      <td>AK</td>\n",
       "      <td>38</td>\n",
       "      <td>1.580515e+06</td>\n",
       "      <td>174.276692</td>\n",
       "    </tr>\n",
       "    <tr>\n",
       "      <th>1</th>\n",
       "      <td>S120509</td>\n",
       "      <td>1.156681</td>\n",
       "      <td>242.948015</td>\n",
       "      <td>Yes</td>\n",
       "      <td>MI</td>\n",
       "      <td>10446</td>\n",
       "      <td>1.580515e+06</td>\n",
       "      <td>174.276692</td>\n",
       "    </tr>\n",
       "    <tr>\n",
       "      <th>2</th>\n",
       "      <td>K191035</td>\n",
       "      <td>15.754144</td>\n",
       "      <td>159.440398</td>\n",
       "      <td>No</td>\n",
       "      <td>OR</td>\n",
       "      <td>3735</td>\n",
       "      <td>1.580515e+06</td>\n",
       "      <td>174.276692</td>\n",
       "    </tr>\n",
       "    <tr>\n",
       "      <th>3</th>\n",
       "      <td>D90850</td>\n",
       "      <td>17.087227</td>\n",
       "      <td>120.249493</td>\n",
       "      <td>No</td>\n",
       "      <td>CA</td>\n",
       "      <td>13863</td>\n",
       "      <td>1.580515e+06</td>\n",
       "      <td>174.276692</td>\n",
       "    </tr>\n",
       "    <tr>\n",
       "      <th>4</th>\n",
       "      <td>K662701</td>\n",
       "      <td>1.670972</td>\n",
       "      <td>150.761216</td>\n",
       "      <td>Yes</td>\n",
       "      <td>TX</td>\n",
       "      <td>11352</td>\n",
       "      <td>1.580515e+06</td>\n",
       "      <td>174.276692</td>\n",
       "    </tr>\n",
       "  </tbody>\n",
       "</table>\n",
       "</div>"
      ],
      "text/plain": [
       "  Customer_id     Tenure  MonthlyCharge Churn State  Population  \\\n",
       "0     K409198   6.795513     171.449762    No    AK          38   \n",
       "1     S120509   1.156681     242.948015   Yes    MI       10446   \n",
       "2     K191035  15.754144     159.440398    No    OR        3735   \n",
       "3      D90850  17.087227     120.249493    No    CA       13863   \n",
       "4     K662701   1.670972     150.761216   Yes    TX       11352   \n",
       "\n",
       "   Gross_Profits    Avg_Cost  \n",
       "0   1.580515e+06  174.276692  \n",
       "1   1.580515e+06  174.276692  \n",
       "2   1.580515e+06  174.276692  \n",
       "3   1.580515e+06  174.276692  \n",
       "4   1.580515e+06  174.276692  "
      ]
     },
     "execution_count": 34,
     "metadata": {},
     "output_type": "execute_result"
    }
   ],
   "source": [
    "import pandas as pd\n",
    "# read in your SQL query results using pandas\n",
    "dataframe = pd.read_sql(\"\"\"\n",
    "            SELECT *\n",
    "            FROM clean_data\n",
    "            \"\"\",data_db)\n",
    "dataframe.head()"
   ]
  },
  {
   "cell_type": "markdown",
   "id": "40e8a65e",
   "metadata": {},
   "source": [
    "#### Sources\n",
    "\n",
    "BlastChar (n.d) Telco Customer Churn Retrieved from https://www.kaggle.com/blastchar/telco-customer-churn <p/>\n",
    "\n",
    "royalosyin (2021, April 28) Practice-SQL-with-SQLite-and-Jupyter-Notebook Retrieved from https://github.com/royalosyin/Practice-SQL-with-SQLite-and-Jupyter-Notebook <p/>\n",
    "\n",
    "Western Governor’s University. (June 2021). D206 Data Cleaning_Churn Data Consideration and Dictionary [PDF file]. Retrieved from https://access.wgu.edu/ASP3/aap/content/kgj47f8gj49f8du49d3k.html <p/>\n",
    "\n"
   ]
  }
 ],
 "metadata": {
  "kernelspec": {
   "display_name": "Python 3 (ipykernel)",
   "language": "python",
   "name": "python3"
  },
  "language_info": {
   "codemirror_mode": {
    "name": "ipython",
    "version": 3
   },
   "file_extension": ".py",
   "mimetype": "text/x-python",
   "name": "python",
   "nbconvert_exporter": "python",
   "pygments_lexer": "ipython3",
   "version": "3.9.7"
  }
 },
 "nbformat": 4,
 "nbformat_minor": 5
}
